{
 "cells": [
  {
   "cell_type": "code",
   "execution_count": 1,
   "id": "149590f5",
   "metadata": {},
   "outputs": [
    {
     "name": "stdout",
     "output_type": "stream",
     "text": [
      "enter your name\n"
     ]
    }
   ],
   "source": [
    "print(\"enter your name\")"
   ]
  },
  {
   "cell_type": "code",
   "execution_count": 7,
   "id": "b2e177fa",
   "metadata": {},
   "outputs": [
    {
     "name": "stdout",
     "output_type": "stream",
     "text": [
      "iam confident\n",
      "i will be successful\n",
      "my principles\n"
     ]
    }
   ],
   "source": [
    "print(\"iam confident\")\n",
    "print(\"i will be successful\")\n",
    "print(\"my principles\")"
   ]
  },
  {
   "cell_type": "code",
   "execution_count": 8,
   "id": "8d1cd511",
   "metadata": {},
   "outputs": [],
   "source": [
    "a = \"\"\"im confident\n",
    "my life my rules\n",
    "iam the queen of my life\n",
    "\"\"\""
   ]
  },
  {
   "cell_type": "code",
   "execution_count": 10,
   "id": "04869277",
   "metadata": {},
   "outputs": [
    {
     "name": "stdout",
     "output_type": "stream",
     "text": [
      "im confident\n",
      "my life my rules\n",
      "iam the queen of my life\n",
      "\n"
     ]
    }
   ],
   "source": [
    "print (a)"
   ]
  },
  {
   "cell_type": "code",
   "execution_count": 49,
   "id": "b93febef",
   "metadata": {},
   "outputs": [],
   "source": [
    "a = \"selfsufficient\""
   ]
  },
  {
   "cell_type": "code",
   "execution_count": 28,
   "id": "f8015213",
   "metadata": {},
   "outputs": [
    {
     "name": "stdout",
     "output_type": "stream",
     "text": [
      "F\n"
     ]
    }
   ],
   "source": [
    "print (a[6])"
   ]
  },
  {
   "cell_type": "code",
   "execution_count": 29,
   "id": "38485fde",
   "metadata": {},
   "outputs": [
    {
     "name": "stdout",
     "output_type": "stream",
     "text": [
      "14\n"
     ]
    }
   ],
   "source": [
    "print (len(a))"
   ]
  },
  {
   "cell_type": "code",
   "execution_count": 30,
   "id": "0b9b4ae1",
   "metadata": {},
   "outputs": [
    {
     "name": "stdout",
     "output_type": "stream",
     "text": [
      "False\n",
      "False\n"
     ]
    }
   ],
   "source": [
    "print(a.isupper())\n",
    "print(a.islower())"
   ]
  },
  {
   "cell_type": "code",
   "execution_count": 50,
   "id": "6f339b06",
   "metadata": {},
   "outputs": [
    {
     "name": "stdout",
     "output_type": "stream",
     "text": [
      "selfsufficient\n",
      "c\n",
      "u\n",
      "SELFSUFFICIENT\n"
     ]
    }
   ],
   "source": [
    "print(a.lower())\n",
    "print(min(a))\n",
    "print(max(a))\n",
    "print(a.swapcase())"
   ]
  },
  {
   "cell_type": "code",
   "execution_count": 51,
   "id": "a5299984",
   "metadata": {},
   "outputs": [
    {
     "name": "stdout",
     "output_type": "stream",
     "text": [
      "True\n",
      "True\n",
      "False\n"
     ]
    }
   ],
   "source": [
    "print(a.isalnum())\n",
    "print(a.isalpha())\n",
    "print(a.isdigit())"
   ]
  },
  {
   "cell_type": "code",
   "execution_count": 52,
   "id": "db3d222f",
   "metadata": {},
   "outputs": [
    {
     "name": "stdout",
     "output_type": "stream",
     "text": [
      "ffic\n",
      "selfsufficient\n",
      "sffcn\n",
      "e\n"
     ]
    }
   ],
   "source": [
    "print(a[6:10])\n",
    "print(a[:])\n",
    "print(a[::3])\n",
    "print(a[-3])"
   ]
  },
  {
   "cell_type": "code",
   "execution_count": 55,
   "id": "3dc2086b",
   "metadata": {},
   "outputs": [
    {
     "name": "stdout",
     "output_type": "stream",
     "text": [
      "3\n",
      "6\n",
      "2\n"
     ]
    }
   ],
   "source": [
    "print(a.index(\"f\"))\n",
    "print(a.index(\"f\",5,10))\n",
    "print(a.rindex(\"l\"))"
   ]
  },
  {
   "cell_type": "code",
   "execution_count": 4,
   "id": "e57685cf",
   "metadata": {},
   "outputs": [],
   "source": [
    "a = \"abbiramy@gmail.com\""
   ]
  },
  {
   "cell_type": "code",
   "execution_count": 1,
   "id": "44e64d6a",
   "metadata": {},
   "outputs": [
    {
     "ename": "NameError",
     "evalue": "name 'a' is not defined",
     "output_type": "error",
     "traceback": [
      "\u001b[1;31m---------------------------------------------------------------------------\u001b[0m",
      "\u001b[1;31mNameError\u001b[0m                                 Traceback (most recent call last)",
      "Cell \u001b[1;32mIn[1], line 1\u001b[0m\n\u001b[1;32m----> 1\u001b[0m \u001b[38;5;28mprint\u001b[39m(\u001b[43ma\u001b[49m\u001b[38;5;241m.\u001b[39msplit(\u001b[38;5;124m\"\u001b[39m\u001b[38;5;124ma\u001b[39m\u001b[38;5;124m\"\u001b[39m, \u001b[38;5;241m1\u001b[39m))\n",
      "\u001b[1;31mNameError\u001b[0m: name 'a' is not defined"
     ]
    }
   ],
   "source": [
    "print(a.split(\"a\", 1))"
   ]
  },
  {
   "cell_type": "code",
   "execution_count": 12,
   "id": "f7e07f07",
   "metadata": {},
   "outputs": [
    {
     "name": "stdout",
     "output_type": "stream",
     "text": [
      "['test', 'gmail.com']\n",
      "['gmail', 'com']\n"
     ]
    }
   ],
   "source": [
    "a = \"test@gmail.com\"\n",
    "print(a.split(\"@\"))\n",
    "b = \"gmail.com\"\n",
    "print(b.split(\".\",1))"
   ]
  },
  {
   "cell_type": "code",
   "execution_count": 24,
   "id": "5a72d51f",
   "metadata": {},
   "outputs": [
    {
     "name": "stdout",
     "output_type": "stream",
     "text": [
      "a\n"
     ]
    }
   ],
   "source": [
    "a = \"hemalatha\"\n",
    "print(a[-1])"
   ]
  },
  {
   "cell_type": "code",
   "execution_count": null,
   "id": "01904a83",
   "metadata": {},
   "outputs": [],
   "source": [
    "a = [\"abbi\", \"dhanu\", \"chennai\"]\n",
    "b = print(' '.join(a))"
   ]
  },
  {
   "cell_type": "code",
   "execution_count": null,
   "id": "301230fa",
   "metadata": {},
   "outputs": [],
   "source": [
    "a = input(\"enter a number\")"
   ]
  },
  {
   "cell_type": "code",
   "execution_count": null,
   "id": "752a064f",
   "metadata": {},
   "outputs": [],
   "source": [
    "print(a)"
   ]
  },
  {
   "cell_type": "code",
   "execution_count": null,
   "id": "e6042002",
   "metadata": {},
   "outputs": [],
   "source": []
  }
 ],
 "metadata": {
  "kernelspec": {
   "display_name": "Python 3 (ipykernel)",
   "language": "python",
   "name": "python3"
  },
  "language_info": {
   "codemirror_mode": {
    "name": "ipython",
    "version": 3
   },
   "file_extension": ".py",
   "mimetype": "text/x-python",
   "name": "python",
   "nbconvert_exporter": "python",
   "pygments_lexer": "ipython3",
   "version": "3.10.9"
  }
 },
 "nbformat": 4,
 "nbformat_minor": 5
}
