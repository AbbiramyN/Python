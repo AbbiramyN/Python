{
 "cells": [
  {
   "cell_type": "code",
   "execution_count": 1,
   "id": "382f296c",
   "metadata": {},
   "outputs": [
    {
     "name": "stdout",
     "output_type": "stream",
     "text": [
      "hello welcome\n"
     ]
    }
   ],
   "source": [
    "print(\"hello welcome\")"
   ]
  },
  {
   "cell_type": "code",
   "execution_count": 3,
   "id": "ba236c08",
   "metadata": {},
   "outputs": [],
   "source": [
    "#two types of comment\n",
    "#single line comment-->starts with # \n",
    "#tocomment and uncomment ctrl+?"
   ]
  },
  {
   "cell_type": "code",
   "execution_count": 2,
   "id": "d86d10ae",
   "metadata": {},
   "outputs": [
    {
     "name": "stdout",
     "output_type": "stream",
     "text": [
      "hi\n",
      "welcome\n"
     ]
    }
   ],
   "source": [
    "print(\"hi\")\n",
    "#print(\"hello\")\n",
    "print(\"welcome\")\n"
   ]
  },
  {
   "cell_type": "code",
   "execution_count": 4,
   "id": "5f325a8b",
   "metadata": {},
   "outputs": [],
   "source": [
    "#multi line comment -->starts with\"\"\"\"\"\""
   ]
  },
  {
   "cell_type": "code",
   "execution_count": 5,
   "id": "c747c9a1",
   "metadata": {},
   "outputs": [
    {
     "data": {
      "text/plain": [
       "'\\n\\n\\n'"
      ]
     },
     "execution_count": 5,
     "metadata": {},
     "output_type": "execute_result"
    }
   ],
   "source": [
    "\"\"\"\n",
    "\n",
    "\n",
    "\"\"\""
   ]
  },
  {
   "cell_type": "code",
   "execution_count": 6,
   "id": "b08eaf2c",
   "metadata": {},
   "outputs": [],
   "source": [
    "#to avoid repeated typing assign the value to a variable \"a\""
   ]
  },
  {
   "cell_type": "code",
   "execution_count": 7,
   "id": "2cc36dc9",
   "metadata": {},
   "outputs": [],
   "source": [
    "a = \"welcome to todays class\"\n"
   ]
  },
  {
   "cell_type": "code",
   "execution_count": 8,
   "id": "c883d867",
   "metadata": {},
   "outputs": [
    {
     "name": "stdout",
     "output_type": "stream",
     "text": [
      "welcome to todays class\n"
     ]
    }
   ],
   "source": [
    "print(a)"
   ]
  },
  {
   "cell_type": "code",
   "execution_count": 9,
   "id": "76cb971f",
   "metadata": {},
   "outputs": [
    {
     "name": "stdout",
     "output_type": "stream",
     "text": [
      "enter a nameabbiramy\n"
     ]
    }
   ],
   "source": [
    "a = input(\"enter a name\")"
   ]
  },
  {
   "cell_type": "code",
   "execution_count": 16,
   "id": "12667e93",
   "metadata": {},
   "outputs": [
    {
     "name": "stdout",
     "output_type": "stream",
     "text": [
      "abbiramy\n"
     ]
    }
   ],
   "source": [
    "print(a)"
   ]
  },
  {
   "cell_type": "code",
   "execution_count": 1,
   "id": "ee7c0553",
   "metadata": {},
   "outputs": [],
   "source": [
    "##data types"
   ]
  },
  {
   "cell_type": "code",
   "execution_count": 2,
   "id": "ec5ab92b",
   "metadata": {},
   "outputs": [],
   "source": [
    "#string --> anything that comes in double quotes"
   ]
  },
  {
   "cell_type": "code",
   "execution_count": 15,
   "id": "b39f16c1",
   "metadata": {},
   "outputs": [],
   "source": [
    "a = \"PythonClass\""
   ]
  },
  {
   "cell_type": "code",
   "execution_count": 16,
   "id": "a71154ab",
   "metadata": {},
   "outputs": [
    {
     "name": "stdout",
     "output_type": "stream",
     "text": [
      "<class 'str'>\n"
     ]
    }
   ],
   "source": [
    "print (type(a))"
   ]
  },
  {
   "cell_type": "code",
   "execution_count": 5,
   "id": "ecdd2c41",
   "metadata": {},
   "outputs": [
    {
     "name": "stdout",
     "output_type": "stream",
     "text": [
      "True\n"
     ]
    }
   ],
   "source": [
    "print(isinstance(a,str))"
   ]
  },
  {
   "cell_type": "code",
   "execution_count": 6,
   "id": "37eda3d5",
   "metadata": {},
   "outputs": [
    {
     "name": "stdout",
     "output_type": "stream",
     "text": [
      "12\n"
     ]
    }
   ],
   "source": [
    "print(len(a))  #gets the length "
   ]
  },
  {
   "cell_type": "code",
   "execution_count": 17,
   "id": "006923fa",
   "metadata": {},
   "outputs": [
    {
     "name": "stdout",
     "output_type": "stream",
     "text": [
      "C\n",
      "y\n",
      "['C', 'P', 'a', 'h', 'l', 'n', 'o', 's', 's', 't', 'y']\n"
     ]
    }
   ],
   "source": [
    "print(min(a))\n",
    "print(max(a))\n",
    "print(sorted(a))"
   ]
  },
  {
   "cell_type": "code",
   "execution_count": 9,
   "id": "408d5bb9",
   "metadata": {},
   "outputs": [],
   "source": [
    "#ASCII value of capital letter is minimum than small letters\n",
    "#lowest for space"
   ]
  },
  {
   "cell_type": "code",
   "execution_count": 18,
   "id": "ef321551",
   "metadata": {},
   "outputs": [
    {
     "name": "stdout",
     "output_type": "stream",
     "text": [
      "False\n",
      "False\n"
     ]
    }
   ],
   "source": [
    "print(a.isupper())\n",
    "print(a.islower())"
   ]
  },
  {
   "cell_type": "code",
   "execution_count": 19,
   "id": "eeaa9215",
   "metadata": {},
   "outputs": [
    {
     "name": "stdout",
     "output_type": "stream",
     "text": [
      "PYTHONCLASS\n",
      "pythonclass\n",
      "pYTHONcLASS\n"
     ]
    }
   ],
   "source": [
    "print(a.upper())\n",
    "print(a.lower())\n",
    "print(a.swapcase())"
   ]
  },
  {
   "cell_type": "code",
   "execution_count": 20,
   "id": "54bcd33d",
   "metadata": {},
   "outputs": [
    {
     "name": "stdout",
     "output_type": "stream",
     "text": [
      "True\n",
      "True\n",
      "False\n"
     ]
    }
   ],
   "source": [
    "print(a.isalpha())\n",
    "print(a.isalnum()) #alpha OR num\n",
    "print(a.isdigit())  #if space is given in \"a\", output for apha will be false"
   ]
  },
  {
   "cell_type": "code",
   "execution_count": 21,
   "id": "95993a5a",
   "metadata": {},
   "outputs": [],
   "source": [
    "##indexing\n",
    "##0 1 2 3 4 5\n",
    "##p y t h o n\n",
    "##-6 -5 -4 -3 -2 -1  ##reverse indexing"
   ]
  },
  {
   "cell_type": "code",
   "execution_count": 23,
   "id": "2257f1bb",
   "metadata": {},
   "outputs": [],
   "source": [
    "a = \"Machine Learning\""
   ]
  },
  {
   "cell_type": "code",
   "execution_count": 26,
   "id": "d4b04ce0",
   "metadata": {},
   "outputs": [
    {
     "name": "stdout",
     "output_type": "stream",
     "text": [
      "e\n"
     ]
    }
   ],
   "source": [
    "print(a[6])"
   ]
  },
  {
   "cell_type": "code",
   "execution_count": 27,
   "id": "a7ca1e80",
   "metadata": {},
   "outputs": [],
   "source": [
    "##start : end : interval"
   ]
  },
  {
   "cell_type": "code",
   "execution_count": 28,
   "id": "e3223907",
   "metadata": {},
   "outputs": [
    {
     "name": "stdout",
     "output_type": "stream",
     "text": [
      "chine \n"
     ]
    }
   ],
   "source": [
    "print(a[2:8])"
   ]
  },
  {
   "cell_type": "code",
   "execution_count": 30,
   "id": "cfdef1d4",
   "metadata": {},
   "outputs": [
    {
     "name": "stdout",
     "output_type": "stream",
     "text": [
      "Machine Learning\n"
     ]
    }
   ],
   "source": [
    "print(a[:])  #from start to end without interval"
   ]
  },
  {
   "cell_type": "code",
   "execution_count": 31,
   "id": "5db935c5",
   "metadata": {},
   "outputs": [
    {
     "name": "stdout",
     "output_type": "stream",
     "text": [
      "Machine Learning\n"
     ]
    }
   ],
   "source": [
    "print(a[::1]) #entirely"
   ]
  },
  {
   "cell_type": "code",
   "execution_count": 32,
   "id": "35a108e9",
   "metadata": {},
   "outputs": [
    {
     "name": "stdout",
     "output_type": "stream",
     "text": [
      "McieLann\n"
     ]
    }
   ],
   "source": [
    "print(a[::2])  #gives every 2nd letter"
   ]
  },
  {
   "cell_type": "code",
   "execution_count": 33,
   "id": "8d5cb8e7",
   "metadata": {},
   "outputs": [
    {
     "name": "stdout",
     "output_type": "stream",
     "text": [
      "g\n"
     ]
    }
   ],
   "source": [
    "print(a[-1])"
   ]
  },
  {
   "cell_type": "code",
   "execution_count": 35,
   "id": "cd33f2e4",
   "metadata": {},
   "outputs": [
    {
     "name": "stdout",
     "output_type": "stream",
     "text": [
      "gninraeL enihcaM\n"
     ]
    }
   ],
   "source": [
    "print(a[::-1])  #reverse indexing"
   ]
  },
  {
   "cell_type": "code",
   "execution_count": 41,
   "id": "030afed0",
   "metadata": {},
   "outputs": [
    {
     "name": "stdout",
     "output_type": "stream",
     "text": [
      "6\n"
     ]
    }
   ],
   "source": [
    "##\n",
    "print(a.index(\"e\"))   ##gives the value of first e only"
   ]
  },
  {
   "cell_type": "code",
   "execution_count": 43,
   "id": "33390514",
   "metadata": {},
   "outputs": [
    {
     "name": "stdout",
     "output_type": "stream",
     "text": [
      "9\n"
     ]
    }
   ],
   "source": [
    "print(a.index(\"e\",7))"
   ]
  },
  {
   "cell_type": "code",
   "execution_count": 47,
   "id": "1934ff66",
   "metadata": {},
   "outputs": [
    {
     "name": "stdout",
     "output_type": "stream",
     "text": [
      "6\n"
     ]
    }
   ],
   "source": [
    "print(a.index(\"e\",2,10))"
   ]
  },
  {
   "cell_type": "code",
   "execution_count": 48,
   "id": "466de942",
   "metadata": {},
   "outputs": [
    {
     "name": "stdout",
     "output_type": "stream",
     "text": [
      "10\n"
     ]
    }
   ],
   "source": [
    "print(a.rindex(\"a\"))  #reverse index find form reverse, but gives value from front"
   ]
  },
  {
   "cell_type": "code",
   "execution_count": 56,
   "id": "83dfc070",
   "metadata": {},
   "outputs": [
    {
     "name": "stdout",
     "output_type": "stream",
     "text": [
      "6\n",
      "-1\n"
     ]
    }
   ],
   "source": [
    "#index, find\n",
    "print(a.index(\"e\"))  #if value not found, shows error\n",
    "print(a.find(\"u\"))  #if value not found, gives value -1"
   ]
  },
  {
   "cell_type": "code",
   "execution_count": 3,
   "id": "0a87dbcf",
   "metadata": {},
   "outputs": [],
   "source": [
    "a = \"MachineLearning\""
   ]
  },
  {
   "cell_type": "code",
   "execution_count": 4,
   "id": "91da8d66",
   "metadata": {},
   "outputs": [
    {
     "name": "stdout",
     "output_type": "stream",
     "text": [
      "['M', 'chineLe', 'rning']\n",
      "['M', 'chineLearning']\n"
     ]
    }
   ],
   "source": [
    "print(a.split(\"a\"))\n",
    "print(a.split(\"a\",1))"
   ]
  },
  {
   "cell_type": "code",
   "execution_count": 5,
   "id": "8add4ad1",
   "metadata": {},
   "outputs": [
    {
     "name": "stdout",
     "output_type": "stream",
     "text": [
      "Machin&L&arning\n",
      "Machin&L&arning\n"
     ]
    }
   ],
   "source": [
    "print(a.replace(\"e\",\"&\"))\n",
    "print(a.replace(\"e\",\"&\",2))   #replace second e also"
   ]
  },
  {
   "cell_type": "code",
   "execution_count": 7,
   "id": "d344f913",
   "metadata": {},
   "outputs": [
    {
     "name": "stdout",
     "output_type": "stream",
     "text": [
      "1\n",
      "3\n"
     ]
    }
   ],
   "source": [
    "print(a.count(\"g\"))\n",
    "print(a.count(\"n\"))"
   ]
  },
  {
   "cell_type": "code",
   "execution_count": 14,
   "id": "c8536484",
   "metadata": {},
   "outputs": [],
   "source": [
    "a = \"123\"\n",
    "b = 123"
   ]
  },
  {
   "cell_type": "code",
   "execution_count": 18,
   "id": "403d38b5",
   "metadata": {},
   "outputs": [
    {
     "name": "stdout",
     "output_type": "stream",
     "text": [
      "<class 'str'>\n",
      "<class 'int'>\n"
     ]
    }
   ],
   "source": [
    "print(type (a))\n",
    "print(type(b))   #without \"\" ---> integer"
   ]
  },
  {
   "cell_type": "code",
   "execution_count": 2,
   "id": "998d0df5",
   "metadata": {},
   "outputs": [
    {
     "name": "stdout",
     "output_type": "stream",
     "text": [
      "True\n"
     ]
    }
   ],
   "source": [
    "print(isinstance(\"a\",str))\n"
   ]
  },
  {
   "cell_type": "code",
   "execution_count": 16,
   "id": "ae640e26",
   "metadata": {},
   "outputs": [
    {
     "name": "stdout",
     "output_type": "stream",
     "text": [
      "False\n"
     ]
    }
   ],
   "source": [
    "print(isinstance(b,str))"
   ]
  },
  {
   "cell_type": "code",
   "execution_count": null,
   "id": "6ae77777",
   "metadata": {},
   "outputs": [],
   "source": [
    "#data type 2  integer"
   ]
  },
  {
   "cell_type": "code",
   "execution_count": 19,
   "id": "631d062c",
   "metadata": {},
   "outputs": [
    {
     "name": "stdout",
     "output_type": "stream",
     "text": [
      "123\n",
      "<class 'int'>\n"
     ]
    }
   ],
   "source": [
    "c = int(a)\n",
    "print(c)\n",
    "print(type(c))    #data type casting ---> convert a data type into another (string into integer)"
   ]
  },
  {
   "cell_type": "code",
   "execution_count": 22,
   "id": "3e471f4b",
   "metadata": {},
   "outputs": [
    {
     "ename": "ValueError",
     "evalue": "invalid literal for int() with base 10: 'test'",
     "output_type": "error",
     "traceback": [
      "\u001b[1;31m---------------------------------------------------------------------------\u001b[0m",
      "\u001b[1;31mValueError\u001b[0m                                Traceback (most recent call last)",
      "Cell \u001b[1;32mIn[22], line 2\u001b[0m\n\u001b[0;32m      1\u001b[0m a \u001b[38;5;241m=\u001b[39m \u001b[38;5;124m\"\u001b[39m\u001b[38;5;124mtest\u001b[39m\u001b[38;5;124m\"\u001b[39m\n\u001b[1;32m----> 2\u001b[0m b \u001b[38;5;241m=\u001b[39m \u001b[38;5;28;43mint\u001b[39;49m\u001b[43m(\u001b[49m\u001b[43ma\u001b[49m\u001b[43m)\u001b[49m\n",
      "\u001b[1;31mValueError\u001b[0m: invalid literal for int() with base 10: 'test'"
     ]
    }
   ],
   "source": [
    "a = \"test\"\n",
    "b = int(a)    #alpha cant be type casted into digit"
   ]
  },
  {
   "cell_type": "code",
   "execution_count": 23,
   "id": "c0105569",
   "metadata": {},
   "outputs": [
    {
     "name": "stdout",
     "output_type": "stream",
     "text": [
      "123.0\n"
     ]
    }
   ],
   "source": [
    "a = \"123\"\n",
    "b = float(a)\n",
    "print(b)    #convert into decimal"
   ]
  },
  {
   "cell_type": "code",
   "execution_count": 24,
   "id": "a85e2eb7",
   "metadata": {},
   "outputs": [
    {
     "ename": "AttributeError",
     "evalue": "'int' object has no attribute 'isdigit'",
     "output_type": "error",
     "traceback": [
      "\u001b[1;31m---------------------------------------------------------------------------\u001b[0m",
      "\u001b[1;31mAttributeError\u001b[0m                            Traceback (most recent call last)",
      "Cell \u001b[1;32mIn[24], line 2\u001b[0m\n\u001b[0;32m      1\u001b[0m a \u001b[38;5;241m=\u001b[39m \u001b[38;5;241m123\u001b[39m\n\u001b[1;32m----> 2\u001b[0m \u001b[38;5;28mprint\u001b[39m(\u001b[43ma\u001b[49m\u001b[38;5;241;43m.\u001b[39;49m\u001b[43misdigit\u001b[49m(a))\n",
      "\u001b[1;31mAttributeError\u001b[0m: 'int' object has no attribute 'isdigit'"
     ]
    }
   ],
   "source": [
    "a = 123\n",
    "print(a.isdigit(a))    #isdigit, isaplha, isalnum are func of string (here a is integer)"
   ]
  },
  {
   "cell_type": "code",
   "execution_count": 25,
   "id": "14609dd9",
   "metadata": {},
   "outputs": [
    {
     "ename": "TypeError",
     "evalue": "object of type 'int' has no len()",
     "output_type": "error",
     "traceback": [
      "\u001b[1;31m---------------------------------------------------------------------------\u001b[0m",
      "\u001b[1;31mTypeError\u001b[0m                                 Traceback (most recent call last)",
      "Cell \u001b[1;32mIn[25], line 2\u001b[0m\n\u001b[0;32m      1\u001b[0m a \u001b[38;5;241m=\u001b[39m \u001b[38;5;241m123\u001b[39m\n\u001b[1;32m----> 2\u001b[0m \u001b[38;5;28mprint\u001b[39m(\u001b[38;5;28;43mlen\u001b[39;49m\u001b[43m(\u001b[49m\u001b[43ma\u001b[49m\u001b[43m)\u001b[49m)\n",
      "\u001b[1;31mTypeError\u001b[0m: object of type 'int' has no len()"
     ]
    }
   ],
   "source": [
    "a = 123\n",
    "print(len(a))   #func of string not applicable\n"
   ]
  },
  {
   "cell_type": "code",
   "execution_count": 28,
   "id": "8d4f84b4",
   "metadata": {},
   "outputs": [],
   "source": [
    "a = [[\"abbi\", \"26\", \"tirunelveli\"],[\"dhanu\",\"26\", \"chennai\"]]"
   ]
  },
  {
   "cell_type": "code",
   "execution_count": 35,
   "id": "8344f6e6",
   "metadata": {},
   "outputs": [],
   "source": [
    "a = [\"abbi\", \"26\", \"tirunelveli\"]"
   ]
  },
  {
   "cell_type": "code",
   "execution_count": 36,
   "id": "8cc3cbc1",
   "metadata": {},
   "outputs": [],
   "source": [
    "#type, isinstance, min, max, sorted, length, reverse"
   ]
  },
  {
   "cell_type": "code",
   "execution_count": 42,
   "id": "47e83777",
   "metadata": {},
   "outputs": [
    {
     "name": "stdout",
     "output_type": "stream",
     "text": [
      "<class 'list'>\n",
      "False\n",
      "26\n",
      "tirunelveli\n",
      "['26', 'abbi', 'tirunelveli']\n",
      "3\n",
      "['tirunelveli', '26', 'abbi']\n"
     ]
    }
   ],
   "source": [
    "print(type(a))\n",
    "print(isinstance(a,str))\n",
    "print(min(a))\n",
    "print(max(a))\n",
    "print(sorted(a))\n",
    "print(len(a))\n",
    "print(a[::-1])"
   ]
  },
  {
   "cell_type": "code",
   "execution_count": 43,
   "id": "d2671891",
   "metadata": {},
   "outputs": [],
   "source": [
    "a = [\"abbi\", 26, \"tirunelveli\"]    #compares only with similar data types so error (string, int, string)"
   ]
  },
  {
   "cell_type": "code",
   "execution_count": 44,
   "id": "f15ed246",
   "metadata": {},
   "outputs": [
    {
     "ename": "TypeError",
     "evalue": "'<' not supported between instances of 'int' and 'str'",
     "output_type": "error",
     "traceback": [
      "\u001b[1;31m---------------------------------------------------------------------------\u001b[0m",
      "\u001b[1;31mTypeError\u001b[0m                                 Traceback (most recent call last)",
      "Cell \u001b[1;32mIn[44], line 1\u001b[0m\n\u001b[1;32m----> 1\u001b[0m \u001b[38;5;28mprint\u001b[39m(\u001b[38;5;28;43msorted\u001b[39;49m\u001b[43m(\u001b[49m\u001b[43ma\u001b[49m\u001b[43m)\u001b[49m)\n",
      "\u001b[1;31mTypeError\u001b[0m: '<' not supported between instances of 'int' and 'str'"
     ]
    }
   ],
   "source": [
    "print(sorted(a))"
   ]
  },
  {
   "cell_type": "code",
   "execution_count": 51,
   "id": "daba5b11",
   "metadata": {},
   "outputs": [
    {
     "name": "stdout",
     "output_type": "stream",
     "text": [
      "['abbi', 26, 'tirunelveli', 'life', 'life', 'happy', 'happy', 'happy', 'happy']\n"
     ]
    }
   ],
   "source": [
    "a.append(\"happy\")      #adds at the end by default\n",
    "print(a)"
   ]
  },
  {
   "cell_type": "code",
   "execution_count": 50,
   "id": "ba6f0e59",
   "metadata": {},
   "outputs": [
    {
     "name": "stdout",
     "output_type": "stream",
     "text": [
      "['abbi', 26, 'tirunelveli', 'life', 'life', 'happy', 'happy', 'happy']\n"
     ]
    }
   ],
   "source": [
    "a.insert(3,\"life\")  #insert at a specific index\n",
    "print(a)"
   ]
  },
  {
   "cell_type": "code",
   "execution_count": 53,
   "id": "8de01d8d",
   "metadata": {},
   "outputs": [
    {
     "name": "stdout",
     "output_type": "stream",
     "text": [
      "['abbi', 26, 'tirunelveli', 'happy', 'happy', 'happy', 'happy']\n"
     ]
    }
   ],
   "source": [
    "a.remove(\"life\")     #remove a specific string \n",
    "print(a)"
   ]
  },
  {
   "cell_type": "code",
   "execution_count": 1,
   "id": "8c3ea26d",
   "metadata": {},
   "outputs": [
    {
     "ename": "NameError",
     "evalue": "name 'a' is not defined",
     "output_type": "error",
     "traceback": [
      "\u001b[1;31m---------------------------------------------------------------------------\u001b[0m",
      "\u001b[1;31mNameError\u001b[0m                                 Traceback (most recent call last)",
      "Cell \u001b[1;32mIn[1], line 1\u001b[0m\n\u001b[1;32m----> 1\u001b[0m \u001b[38;5;28;01mdel\u001b[39;00m \u001b[43ma\u001b[49m[\u001b[38;5;241m3\u001b[39m]  \u001b[38;5;66;03m#delete a list when index is not known\u001b[39;00m\n\u001b[0;32m      2\u001b[0m \u001b[38;5;28mprint\u001b[39m(a)\n",
      "\u001b[1;31mNameError\u001b[0m: name 'a' is not defined"
     ]
    }
   ],
   "source": [
    "del a[3]  #delete a list when index is not known\n",
    "print(a)"
   ]
  },
  {
   "cell_type": "code",
   "execution_count": 2,
   "id": "5a669e12",
   "metadata": {},
   "outputs": [],
   "source": [
    "a = [\"hi\", \"hello\", \"welcome\"]"
   ]
  },
  {
   "cell_type": "code",
   "execution_count": 3,
   "id": "153e3caf",
   "metadata": {},
   "outputs": [],
   "source": [
    "b = a.pop()   #pop removes last by default"
   ]
  },
  {
   "cell_type": "code",
   "execution_count": 4,
   "id": "7dd9449d",
   "metadata": {},
   "outputs": [
    {
     "name": "stdout",
     "output_type": "stream",
     "text": [
      "['hi', 'hello']\n"
     ]
    }
   ],
   "source": [
    "print(a)"
   ]
  },
  {
   "cell_type": "code",
   "execution_count": 5,
   "id": "fd282198",
   "metadata": {},
   "outputs": [
    {
     "name": "stdout",
     "output_type": "stream",
     "text": [
      "welcome\n"
     ]
    }
   ],
   "source": [
    "print(b)"
   ]
  },
  {
   "cell_type": "code",
   "execution_count": 7,
   "id": "f4542601",
   "metadata": {},
   "outputs": [
    {
     "name": "stdout",
     "output_type": "stream",
     "text": [
      "[1, 2, 3, 4]\n",
      "[1, 2, 3, 4]\n"
     ]
    }
   ],
   "source": [
    "#types of copy\n",
    "#shallow copy  (shared memory) same output for both a, b\n",
    "a = [1,2,3]\n",
    "b = a\n",
    "a.append(4)\n",
    "print(a)\n",
    "print(b)"
   ]
  },
  {
   "cell_type": "code",
   "execution_count": 9,
   "id": "aa4aeb1d",
   "metadata": {},
   "outputs": [
    {
     "name": "stdout",
     "output_type": "stream",
     "text": [
      "[1, 2, 3, 4]\n",
      "[1, 2, 3]\n"
     ]
    }
   ],
   "source": [
    "#deep (different memory) diff output for a,b\n",
    "a = [1,2,3]\n",
    "b = a.copy()\n",
    "a.append(4)\n",
    "print(a)\n",
    "print(b)"
   ]
  },
  {
   "cell_type": "code",
   "execution_count": 10,
   "id": "dadf236e",
   "metadata": {},
   "outputs": [
    {
     "name": "stdout",
     "output_type": "stream",
     "text": [
      "0\n"
     ]
    }
   ],
   "source": [
    "a = [\"hi\", \"hello\", \"welcome\"]\n",
    "print(a.index(\"hi\"))"
   ]
  },
  {
   "cell_type": "code",
   "execution_count": 11,
   "id": "a85d38c0",
   "metadata": {},
   "outputs": [
    {
     "ename": "AttributeError",
     "evalue": "'list' object has no attribute 'rindex'",
     "output_type": "error",
     "traceback": [
      "\u001b[1;31m---------------------------------------------------------------------------\u001b[0m",
      "\u001b[1;31mAttributeError\u001b[0m                            Traceback (most recent call last)",
      "Cell \u001b[1;32mIn[11], line 1\u001b[0m\n\u001b[1;32m----> 1\u001b[0m \u001b[38;5;28mprint\u001b[39m(\u001b[43ma\u001b[49m\u001b[38;5;241;43m.\u001b[39;49m\u001b[43mrindex\u001b[49m(\u001b[38;5;124m\"\u001b[39m\u001b[38;5;124mhi\u001b[39m\u001b[38;5;124m\"\u001b[39m))\n",
      "\u001b[1;31mAttributeError\u001b[0m: 'list' object has no attribute 'rindex'"
     ]
    }
   ],
   "source": [
    "print(a.rindex(\"hi\"))   #only index works in lists  (rindex, find dont work)"
   ]
  },
  {
   "cell_type": "code",
   "execution_count": 16,
   "id": "a5dd4be9",
   "metadata": {},
   "outputs": [
    {
     "name": "stdout",
     "output_type": "stream",
     "text": [
      "<class 'tuple'>\n",
      "False\n",
      "hello\n",
      "welcome\n",
      "['hello', 'hi', 'welcome']\n",
      "hi\n"
     ]
    },
    {
     "ename": "AttributeError",
     "evalue": "'tuple' object has no attribute 'append'",
     "output_type": "error",
     "traceback": [
      "\u001b[1;31m---------------------------------------------------------------------------\u001b[0m",
      "\u001b[1;31mAttributeError\u001b[0m                            Traceback (most recent call last)",
      "Cell \u001b[1;32mIn[16], line 8\u001b[0m\n\u001b[0;32m      6\u001b[0m \u001b[38;5;28mprint\u001b[39m(\u001b[38;5;28msorted\u001b[39m(a))\n\u001b[0;32m      7\u001b[0m \u001b[38;5;28mprint\u001b[39m(a[\u001b[38;5;241m0\u001b[39m])\n\u001b[1;32m----> 8\u001b[0m \u001b[43ma\u001b[49m\u001b[38;5;241;43m.\u001b[39;49m\u001b[43mappend\u001b[49m(\u001b[38;5;241m2\u001b[39m)\n",
      "\u001b[1;31mAttributeError\u001b[0m: 'tuple' object has no attribute 'append'"
     ]
    }
   ],
   "source": [
    "a = (\"hi\", \"hello\", \"welcome\")\n",
    "print(type(a))      #tuple()is immutable and faster than list (cant be changed) vs list[] mutable(can be changed)\n",
    "print(isinstance(a,str))\n",
    "print(min(a))\n",
    "print(max(a))\n",
    "print(sorted(a))\n",
    "print(a[0])\n",
    "a.append(2)  #no append attrib for tuple"
   ]
  },
  {
   "cell_type": "code",
   "execution_count": 26,
   "id": "a34b240e",
   "metadata": {},
   "outputs": [
    {
     "name": "stdout",
     "output_type": "stream",
     "text": [
      "<class 'set'>\n",
      "False\n"
     ]
    },
    {
     "ename": "TypeError",
     "evalue": "'set' object is not subscriptable",
     "output_type": "error",
     "traceback": [
      "\u001b[1;31m---------------------------------------------------------------------------\u001b[0m",
      "\u001b[1;31mTypeError\u001b[0m                                 Traceback (most recent call last)",
      "Cell \u001b[1;32mIn[26], line 4\u001b[0m\n\u001b[0;32m      2\u001b[0m \u001b[38;5;28mprint\u001b[39m(\u001b[38;5;28mtype\u001b[39m(a))\n\u001b[0;32m      3\u001b[0m \u001b[38;5;28mprint\u001b[39m(\u001b[38;5;28misinstance\u001b[39m(a,\u001b[38;5;28mstr\u001b[39m))\n\u001b[1;32m----> 4\u001b[0m \u001b[38;5;28mprint\u001b[39m(\u001b[43ma\u001b[49m\u001b[43m[\u001b[49m\u001b[38;5;241;43m0\u001b[39;49m\u001b[43m]\u001b[49m)\n\u001b[0;32m      5\u001b[0m \u001b[38;5;28mprint\u001b[39m(a)\n",
      "\u001b[1;31mTypeError\u001b[0m: 'set' object is not subscriptable"
     ]
    }
   ],
   "source": [
    "a = {2,2,2,7,7,7,7,9,9,9,9}   #{}set ; any indexing is not applicable in set(index, rindex etc)\n",
    "print(type(a))\n",
    "print(isinstance(a,str))\n",
    "print(a[0])\n",
    "print(a)  #set doesnt allow duplicate values"
   ]
  },
  {
   "cell_type": "code",
   "execution_count": 25,
   "id": "201d7095",
   "metadata": {},
   "outputs": [
    {
     "name": "stdout",
     "output_type": "stream",
     "text": [
      "{2, 3, 4, 5, 6, 7, 8, 9}\n",
      "{4, 6}\n",
      "{3, 5, 7}\n",
      "{8, 9, 2}\n"
     ]
    }
   ],
   "source": [
    "a = {3,4,5,6,7}\n",
    "b = {2,4,8,9,6}\n",
    "print(a.union(b))\n",
    "print(a.intersection(b))\n",
    "print(a.difference(b))\n",
    "print(b.difference(a))"
   ]
  },
  {
   "cell_type": "code",
   "execution_count": 31,
   "id": "0951c880",
   "metadata": {},
   "outputs": [
    {
     "name": "stdout",
     "output_type": "stream",
     "text": [
      "True\n",
      "False\n",
      "True\n",
      "False\n"
     ]
    }
   ],
   "source": [
    "a = {1,2}\n",
    "b = {1,2,3,4,5,6}\n",
    "print(a.issubset(b))\n",
    "print(b.issubset(a))\n",
    "print(b.issuperset(a))\n",
    "print(a.issuperset(b))"
   ]
  },
  {
   "cell_type": "code",
   "execution_count": 32,
   "id": "5194bf4b",
   "metadata": {},
   "outputs": [
    {
     "name": "stdout",
     "output_type": "stream",
     "text": [
      "{1, 2, 3, 6}\n"
     ]
    }
   ],
   "source": [
    "a = {1,2,3}\n",
    "a.add(6)  #append, insert not applic in set\n",
    "print(a)"
   ]
  },
  {
   "cell_type": "code",
   "execution_count": 33,
   "id": "51a296ff",
   "metadata": {},
   "outputs": [
    {
     "name": "stdout",
     "output_type": "stream",
     "text": [
      "{1, 3, 6}\n"
     ]
    }
   ],
   "source": [
    "a.remove(2)\n",
    "print(a)"
   ]
  },
  {
   "cell_type": "code",
   "execution_count": 5,
   "id": "b426cbc6",
   "metadata": {},
   "outputs": [
    {
     "name": "stdout",
     "output_type": "stream",
     "text": [
      "[{'name': 'kiran', 'age': '20', 'location': 'trichy'}, {'name': 'arun', 'age': '24', 'loaction': 'madurai'}]\n"
     ]
    }
   ],
   "source": [
    "a = [[\"kiran\" , \"20\" , \"trichy\"], [\"arun\" , \"24\" , \"madurai\"]]   #dictionary assign a value to a key specifically\n",
    "a = [{\"name\" : \"kiran\" , \"age\" : \"20\" , \"location\" : \"trichy\"} , {\"name\" : \"arun\" , \"age\" : \"24\" , \"loaction\" : \"madurai\"}]\n",
    "print(a)"
   ]
  },
  {
   "cell_type": "code",
   "execution_count": 7,
   "id": "13c12391",
   "metadata": {},
   "outputs": [],
   "source": [
    "a = {\"name\" : \"kiran\" , \"age\" : \"20\" , \"location\" : \"trichy\"}"
   ]
  },
  {
   "cell_type": "code",
   "execution_count": null,
   "id": "f4446528",
   "metadata": {},
   "outputs": [],
   "source": [
    "#type, "
   ]
  },
  {
   "cell_type": "code",
   "execution_count": 8,
   "id": "77654a06",
   "metadata": {},
   "outputs": [
    {
     "name": "stdout",
     "output_type": "stream",
     "text": [
      "<class 'dict'>\n"
     ]
    }
   ],
   "source": [
    "print(type(a))"
   ]
  },
  {
   "cell_type": "code",
   "execution_count": 9,
   "id": "e3a9dc8c",
   "metadata": {},
   "outputs": [
    {
     "name": "stdout",
     "output_type": "stream",
     "text": [
      "age\n"
     ]
    }
   ],
   "source": [
    "print(min(a))"
   ]
  },
  {
   "cell_type": "code",
   "execution_count": 10,
   "id": "fb9dac60",
   "metadata": {},
   "outputs": [
    {
     "name": "stdout",
     "output_type": "stream",
     "text": [
      "name\n"
     ]
    }
   ],
   "source": [
    "print(max(a))"
   ]
  },
  {
   "cell_type": "code",
   "execution_count": 11,
   "id": "117ce0a4",
   "metadata": {},
   "outputs": [
    {
     "name": "stdout",
     "output_type": "stream",
     "text": [
      "['age', 'location', 'name']\n"
     ]
    }
   ],
   "source": [
    "print(sorted(a))"
   ]
  },
  {
   "cell_type": "code",
   "execution_count": 14,
   "id": "b138512c",
   "metadata": {},
   "outputs": [
    {
     "name": "stdout",
     "output_type": "stream",
     "text": [
      "False\n"
     ]
    }
   ],
   "source": [
    "print(isinstance(a,str))"
   ]
  },
  {
   "cell_type": "code",
   "execution_count": 15,
   "id": "d199e79f",
   "metadata": {},
   "outputs": [
    {
     "data": {
      "text/plain": [
       "dict_keys(['name', 'age', 'location'])"
      ]
     },
     "execution_count": 15,
     "metadata": {},
     "output_type": "execute_result"
    }
   ],
   "source": [
    "a.keys()"
   ]
  },
  {
   "cell_type": "code",
   "execution_count": 16,
   "id": "949b6e38",
   "metadata": {},
   "outputs": [
    {
     "data": {
      "text/plain": [
       "dict_values(['kiran', '20', 'trichy'])"
      ]
     },
     "execution_count": 16,
     "metadata": {},
     "output_type": "execute_result"
    }
   ],
   "source": [
    "a.values()"
   ]
  },
  {
   "cell_type": "code",
   "execution_count": 17,
   "id": "1e2d4a1e",
   "metadata": {},
   "outputs": [
    {
     "data": {
      "text/plain": [
       "dict_items([('name', 'kiran'), ('age', '20'), ('location', 'trichy')])"
      ]
     },
     "execution_count": 17,
     "metadata": {},
     "output_type": "execute_result"
    }
   ],
   "source": [
    "a.items()   #both keys and values   tuple inside a list"
   ]
  },
  {
   "cell_type": "code",
   "execution_count": 18,
   "id": "90899f53",
   "metadata": {},
   "outputs": [],
   "source": [
    "a[\"demo\"] = \"try\"  #to add a new  key and value"
   ]
  },
  {
   "cell_type": "code",
   "execution_count": 19,
   "id": "bc392e63",
   "metadata": {},
   "outputs": [
    {
     "name": "stdout",
     "output_type": "stream",
     "text": [
      "{'name': 'kiran', 'age': '20', 'location': 'trichy', 'demo': 'try'}\n"
     ]
    }
   ],
   "source": [
    "print(a)"
   ]
  },
  {
   "cell_type": "code",
   "execution_count": 20,
   "id": "4f7c16c7",
   "metadata": {},
   "outputs": [
    {
     "name": "stdout",
     "output_type": "stream",
     "text": [
      "{'name': 'kiran', 'age': '20', 'location': 'trichy'}\n"
     ]
    }
   ],
   "source": [
    "del a[\"demo\"]          #to remove a key and value\n",
    "print(a)"
   ]
  },
  {
   "cell_type": "code",
   "execution_count": 21,
   "id": "b5a0d8d3",
   "metadata": {},
   "outputs": [
    {
     "data": {
      "text/plain": [
       "'kiran'"
      ]
     },
     "execution_count": 21,
     "metadata": {},
     "output_type": "execute_result"
    }
   ],
   "source": [
    "a[\"name\"]  #to get the value of a key"
   ]
  },
  {
   "cell_type": "code",
   "execution_count": 22,
   "id": "952b8a5f",
   "metadata": {},
   "outputs": [
    {
     "ename": "KeyError",
     "evalue": "'test'",
     "output_type": "error",
     "traceback": [
      "\u001b[1;31m---------------------------------------------------------------------------\u001b[0m",
      "\u001b[1;31mKeyError\u001b[0m                                  Traceback (most recent call last)",
      "Cell \u001b[1;32mIn[22], line 1\u001b[0m\n\u001b[1;32m----> 1\u001b[0m \u001b[43ma\u001b[49m\u001b[43m[\u001b[49m\u001b[38;5;124;43m\"\u001b[39;49m\u001b[38;5;124;43mtest\u001b[39;49m\u001b[38;5;124;43m\"\u001b[39;49m\u001b[43m]\u001b[49m\n",
      "\u001b[1;31mKeyError\u001b[0m: 'test'"
     ]
    }
   ],
   "source": [
    "a[\"test\"]   #no such key so error"
   ]
  },
  {
   "cell_type": "code",
   "execution_count": 23,
   "id": "630fd746",
   "metadata": {},
   "outputs": [
    {
     "data": {
      "text/plain": [
       "'kiran'"
      ]
     },
     "execution_count": 23,
     "metadata": {},
     "output_type": "execute_result"
    }
   ],
   "source": [
    "a.get(\"name\")  #same(get the value of a key)"
   ]
  },
  {
   "cell_type": "code",
   "execution_count": 24,
   "id": "a1b872ab",
   "metadata": {},
   "outputs": [
    {
     "name": "stdout",
     "output_type": "stream",
     "text": [
      "None\n"
     ]
    }
   ],
   "source": [
    "print(a.get(\"test\"))  #gives output as none instead of error"
   ]
  },
  {
   "cell_type": "code",
   "execution_count": 26,
   "id": "115227f2",
   "metadata": {},
   "outputs": [
    {
     "name": "stdout",
     "output_type": "stream",
     "text": [
      "kiran\n",
      "1\n"
     ]
    }
   ],
   "source": [
    "print(a.get(\"name\",1))   #we assign 1 , so gives 1 if no such key\n",
    "print(a.get(\"test\",1))"
   ]
  },
  {
   "cell_type": "code",
   "execution_count": 27,
   "id": "43f5da23",
   "metadata": {},
   "outputs": [
    {
     "name": "stdout",
     "output_type": "stream",
     "text": [
      "{'name': 'kiran', 'age': '24'}\n"
     ]
    }
   ],
   "source": [
    "a = {\"name\" : \"arun\" , \"age\" : \"24\" , \"name\" : \"kiran\"}  #in dictionary key should not be repeated, if repeated it gives last key as output\n",
    "print(a)                                                    #value can be repeated"
   ]
  },
  {
   "cell_type": "code",
   "execution_count": 28,
   "id": "f06c676a",
   "metadata": {},
   "outputs": [],
   "source": [
    "b = a.popitem()  #to remove the last value"
   ]
  },
  {
   "cell_type": "code",
   "execution_count": 29,
   "id": "d7cea752",
   "metadata": {},
   "outputs": [
    {
     "name": "stdout",
     "output_type": "stream",
     "text": [
      "{'name': 'kiran'}\n"
     ]
    }
   ],
   "source": [
    "print(a)"
   ]
  },
  {
   "cell_type": "code",
   "execution_count": 30,
   "id": "0db9fe9e",
   "metadata": {},
   "outputs": [
    {
     "name": "stdout",
     "output_type": "stream",
     "text": [
      "('age', '24')\n"
     ]
    }
   ],
   "source": [
    "print(b)  #to remove first value"
   ]
  },
  {
   "cell_type": "code",
   "execution_count": null,
   "id": "20cc6375",
   "metadata": {},
   "outputs": [],
   "source": [
    "##operators\n",
    "##arithmetic"
   ]
  },
  {
   "cell_type": "code",
   "execution_count": 31,
   "id": "31c51fa0",
   "metadata": {},
   "outputs": [
    {
     "name": "stdout",
     "output_type": "stream",
     "text": [
      "9\n",
      "1\n",
      "20\n",
      "625\n",
      "1.25\n",
      "1\n",
      "1\n"
     ]
    }
   ],
   "source": [
    "a = 5\n",
    "b = 4\n",
    "print(a+b)\n",
    "print(a-b)\n",
    "print(a*b)\n",
    "print(a**b)  #power\n",
    "print(a/b)\n",
    "print(a//b)  #floor division gives quotient\n",
    "print(a%b)   #modulus gives remainder"
   ]
  },
  {
   "cell_type": "code",
   "execution_count": 32,
   "id": "fd3fca5a",
   "metadata": {},
   "outputs": [
    {
     "name": "stdout",
     "output_type": "stream",
     "text": [
      "False\n",
      "True\n",
      "True\n",
      "True\n",
      "False\n",
      "False\n"
     ]
    }
   ],
   "source": [
    "#relational\n",
    "a = 5\n",
    "b = 3\n",
    "print(a==b)  #to check if equal\n",
    "print(a!=b)\n",
    "print(a>b)\n",
    "print(a>=b)\n",
    "print(a<b)\n",
    "print(a<=b)"
   ]
  },
  {
   "cell_type": "code",
   "execution_count": null,
   "id": "0f7847e1",
   "metadata": {},
   "outputs": [],
   "source": [
    "#assignment of values\n",
    "a = 5 \n"
   ]
  },
  {
   "cell_type": "code",
   "execution_count": 33,
   "id": "eb8e5546",
   "metadata": {},
   "outputs": [
    {
     "name": "stdout",
     "output_type": "stream",
     "text": [
      "8\n"
     ]
    }
   ],
   "source": [
    "a+=3\n",
    "print(a)   #denotes a+3"
   ]
  },
  {
   "cell_type": "code",
   "execution_count": null,
   "id": "d48382fb",
   "metadata": {},
   "outputs": [],
   "source": [
    "#logical operators  and, or, not"
   ]
  },
  {
   "cell_type": "code",
   "execution_count": 35,
   "id": "ce021a04",
   "metadata": {},
   "outputs": [
    {
     "name": "stdout",
     "output_type": "stream",
     "text": [
      "True\n",
      "False\n",
      "True\n",
      "True\n",
      "False\n",
      "True\n"
     ]
    }
   ],
   "source": [
    "print(True and True)\n",
    "print(True and False)\n",
    "print(True or False)\n",
    "print(True or True)\n",
    "print(not True)\n",
    "print(not False)\n"
   ]
  },
  {
   "cell_type": "code",
   "execution_count": null,
   "id": "880a6b75",
   "metadata": {},
   "outputs": [],
   "source": [
    "#loop"
   ]
  },
  {
   "cell_type": "code",
   "execution_count": 1,
   "id": "159a55d0",
   "metadata": {},
   "outputs": [
    {
     "name": "stdout",
     "output_type": "stream",
     "text": [
      "yes\n"
     ]
    }
   ],
   "source": [
    "name = \"abbi\"\n",
    "if name == \"abbi\":       #dont use tab and space interchangeablely (only Tab) will show error in python\n",
    "    print(\"yes\")"
   ]
  },
  {
   "cell_type": "code",
   "execution_count": 3,
   "id": "2a0440a5",
   "metadata": {},
   "outputs": [
    {
     "name": "stdout",
     "output_type": "stream",
     "text": [
      "yes\n"
     ]
    }
   ],
   "source": [
    "if name == \"abbi\":\n",
    "    print(\"yes\")\n",
    "else:\n",
    "    print(\"no\")"
   ]
  },
  {
   "cell_type": "code",
   "execution_count": 5,
   "id": "7b63cbd3",
   "metadata": {},
   "outputs": [],
   "source": [
    "name = \"abbi\"\n",
    "mark = 89"
   ]
  },
  {
   "cell_type": "code",
   "execution_count": 6,
   "id": "cc26c893",
   "metadata": {},
   "outputs": [
    {
     "name": "stdout",
     "output_type": "stream",
     "text": [
      "pass\n"
     ]
    }
   ],
   "source": [
    "if name == \"abbi\" and mark >50:\n",
    "    print(\"pass\")\n",
    "elif name == \"abbi\" and mark >70:\n",
    "    print(\"distinction\")\n",
    "else:\n",
    "    print(\"fail\")    #if condition--> if first condition is satisfied it doesnt execute further"
   ]
  },
  {
   "cell_type": "code",
   "execution_count": 7,
   "id": "6e19b24c",
   "metadata": {},
   "outputs": [
    {
     "name": "stdout",
     "output_type": "stream",
     "text": [
      "distinction\n"
     ]
    }
   ],
   "source": [
    "if name == \"abbi\" and mark <50:\n",
    "    print(\"pass\")\n",
    "elif name == \"abbi\" and mark >70:    #looks for alternative subsequent conditions to satisfy\n",
    "    print(\"distinction\")\n",
    "else:\n",
    "    print(\"fail\")  "
   ]
  },
  {
   "cell_type": "code",
   "execution_count": 8,
   "id": "f07027c7",
   "metadata": {},
   "outputs": [
    {
     "name": "stdout",
     "output_type": "stream",
     "text": [
      "pass\n"
     ]
    }
   ],
   "source": [
    "if name == \"abbi\" or mark <50:    #OR condition even if one condi satisfied\n",
    "    print(\"pass\")\n",
    "elif name == \"abbi\" and mark >70:\n",
    "    print(\"distinction\")\n",
    "else:\n",
    "    print(\"fail\")  "
   ]
  },
  {
   "cell_type": "code",
   "execution_count": 9,
   "id": "e9160c4f",
   "metadata": {},
   "outputs": [
    {
     "name": "stdout",
     "output_type": "stream",
     "text": [
      "distinction\n"
     ]
    }
   ],
   "source": [
    "if name == \"abbi\":\n",
    "    if mark >50:\n",
    "        if mark >75:\n",
    "            print(\"distinction\")  #can add any num of if conditions\n",
    "        else:\n",
    "            print(\"pass\")\n",
    "    else:\n",
    "        print(\"fail\")\n"
   ]
  },
  {
   "cell_type": "code",
   "execution_count": 12,
   "id": "3d961960",
   "metadata": {},
   "outputs": [
    {
     "name": "stdout",
     "output_type": "stream",
     "text": [
      "1\n",
      "2\n",
      "3\n",
      "4\n"
     ]
    }
   ],
   "source": [
    "a = 1\n",
    "while a < 5:   \n",
    "    print(a)\n",
    "    a = a + 1      #if false condition is not given , it will give infinite output "
   ]
  },
  {
   "cell_type": "code",
   "execution_count": 13,
   "id": "8c9acea5",
   "metadata": {},
   "outputs": [
    {
     "name": "stdout",
     "output_type": "stream",
     "text": [
      "hi\n",
      "hello\n",
      "welcome\n"
     ]
    }
   ],
   "source": [
    "a = [\"hi\" , \"hello\", \"welcome\"]\n",
    "for i in a:\n",
    "    print(i)"
   ]
  },
  {
   "cell_type": "code",
   "execution_count": 14,
   "id": "9157a1ff",
   "metadata": {},
   "outputs": [
    {
     "data": {
      "text/plain": [
       "[0, 1, 2, 3, 4]"
      ]
     },
     "execution_count": 14,
     "metadata": {},
     "output_type": "execute_result"
    }
   ],
   "source": [
    "list(range(5))  #gives the range of values"
   ]
  },
  {
   "cell_type": "code",
   "execution_count": 15,
   "id": "54dba15d",
   "metadata": {},
   "outputs": [
    {
     "data": {
      "text/plain": [
       "[10, 13, 16, 19]"
      ]
     },
     "execution_count": 15,
     "metadata": {},
     "output_type": "execute_result"
    }
   ],
   "source": [
    "list(range(10,20,3))   #btwn 10 and 20 at interval of 3 "
   ]
  },
  {
   "cell_type": "code",
   "execution_count": 16,
   "id": "3c6ce2c9",
   "metadata": {},
   "outputs": [
    {
     "name": "stdout",
     "output_type": "stream",
     "text": [
      "0\n",
      "1\n",
      "2\n",
      "3\n",
      "4\n"
     ]
    }
   ],
   "source": [
    "for i in range(5):\n",
    "    print(i)"
   ]
  },
  {
   "cell_type": "code",
   "execution_count": 1,
   "id": "6706ce3d",
   "metadata": {},
   "outputs": [],
   "source": [
    "#FUNCTIONS"
   ]
  },
  {
   "cell_type": "code",
   "execution_count": 2,
   "id": "b1a61e0a",
   "metadata": {},
   "outputs": [
    {
     "name": "stdout",
     "output_type": "stream",
     "text": [
      "11\n"
     ]
    }
   ],
   "source": [
    "a = 5\n",
    "b = 6\n",
    "print(a+b)"
   ]
  },
  {
   "cell_type": "code",
   "execution_count": 3,
   "id": "14aca710",
   "metadata": {},
   "outputs": [],
   "source": [
    "def test(a,b):\n",
    "    return(a+b)  #to assign a variable to the function to use it repeatedly"
   ]
  },
  {
   "cell_type": "code",
   "execution_count": 5,
   "id": "d4ec0e65",
   "metadata": {},
   "outputs": [
    {
     "name": "stdout",
     "output_type": "stream",
     "text": [
      "13\n"
     ]
    }
   ],
   "source": [
    "output = test(7,6)\n",
    "print(output)"
   ]
  },
  {
   "cell_type": "code",
   "execution_count": 6,
   "id": "b76099c6",
   "metadata": {},
   "outputs": [],
   "source": [
    "def product(a,b,c):    #give func a name  #( , , ,) ---> argument\n",
    "    return(a*b*c)"
   ]
  },
  {
   "cell_type": "code",
   "execution_count": 9,
   "id": "fca84a9f",
   "metadata": {},
   "outputs": [
    {
     "name": "stdout",
     "output_type": "stream",
     "text": [
      "24\n"
     ]
    }
   ],
   "source": [
    "multiply = product(3,2,4)  #give a variable\n",
    "print(multiply)"
   ]
  },
  {
   "cell_type": "code",
   "execution_count": 10,
   "id": "30c7343e",
   "metadata": {},
   "outputs": [],
   "source": [
    "def name(fname , mname , lname):\n",
    "    print(\"fname is \", fname)\n",
    "    print(\"mname is \", mname)\n",
    "    print(\"lname is \", lname)\n",
    "    "
   ]
  },
  {
   "cell_type": "code",
   "execution_count": 11,
   "id": "282c6745",
   "metadata": {},
   "outputs": [
    {
     "name": "stdout",
     "output_type": "stream",
     "text": [
      "fname is  abbi\n",
      "mname is  ramy\n",
      "lname is  nellaikumar\n"
     ]
    }
   ],
   "source": [
    "name(\"abbi\" , \"ramy\" , \"nellaikumar\")"
   ]
  },
  {
   "cell_type": "code",
   "execution_count": 12,
   "id": "a73c3564",
   "metadata": {},
   "outputs": [
    {
     "ename": "TypeError",
     "evalue": "name() missing 1 required positional argument: 'lname'",
     "output_type": "error",
     "traceback": [
      "\u001b[1;31m---------------------------------------------------------------------------\u001b[0m",
      "\u001b[1;31mTypeError\u001b[0m                                 Traceback (most recent call last)",
      "Cell \u001b[1;32mIn[12], line 1\u001b[0m\n\u001b[1;32m----> 1\u001b[0m \u001b[43mname\u001b[49m\u001b[43m(\u001b[49m\u001b[38;5;124;43m\"\u001b[39;49m\u001b[38;5;124;43mabbi\u001b[39;49m\u001b[38;5;124;43m\"\u001b[39;49m\u001b[43m \u001b[49m\u001b[43m,\u001b[49m\u001b[43m \u001b[49m\u001b[38;5;124;43m\"\u001b[39;49m\u001b[38;5;124;43mramy\u001b[39;49m\u001b[38;5;124;43m\"\u001b[39;49m\u001b[43m)\u001b[49m\n",
      "\u001b[1;31mTypeError\u001b[0m: name() missing 1 required positional argument: 'lname'"
     ]
    }
   ],
   "source": [
    "name(\"abbi\" , \"ramy\")  #positional argument error-->mismatch btwn num of arguments and values"
   ]
  },
  {
   "cell_type": "code",
   "execution_count": 13,
   "id": "68583c97",
   "metadata": {},
   "outputs": [
    {
     "name": "stdout",
     "output_type": "stream",
     "text": [
      "fname is  ramy\n",
      "mname is  nellaikumar\n",
      "lname is  abbi\n"
     ]
    }
   ],
   "source": [
    "name(lname=\"abbi\" , fname=\"ramy\" , mname=\"nellaikumar\") #keyword argument-->to assign a key to a value"
   ]
  },
  {
   "cell_type": "code",
   "execution_count": 14,
   "id": "793934a7",
   "metadata": {},
   "outputs": [],
   "source": [
    "def name(fname = None , mname = None , lname = None):  #default argument-->eg facebook some may not have mname /lname--> to automatically assign values\n",
    "    print(\"fname is \", fname)\n",
    "    print(\"mname is \", mname)\n",
    "    print(\"lname is \", lname)\n",
    "    "
   ]
  },
  {
   "cell_type": "code",
   "execution_count": 15,
   "id": "cb775b36",
   "metadata": {},
   "outputs": [
    {
     "name": "stdout",
     "output_type": "stream",
     "text": [
      "fname is  abbi\n",
      "mname is  ramy\n",
      "lname is  None\n"
     ]
    }
   ],
   "source": [
    "name(\"abbi\" , \"ramy\")"
   ]
  },
  {
   "cell_type": "code",
   "execution_count": 16,
   "id": "64b6e783",
   "metadata": {},
   "outputs": [
    {
     "ename": "SyntaxError",
     "evalue": "non-default argument follows default argument (3796044738.py, line 1)",
     "output_type": "error",
     "traceback": [
      "\u001b[1;36m  Cell \u001b[1;32mIn[16], line 1\u001b[1;36m\u001b[0m\n\u001b[1;33m    def name(fname = None , mname , lname = None):\u001b[0m\n\u001b[1;37m                            ^\u001b[0m\n\u001b[1;31mSyntaxError\u001b[0m\u001b[1;31m:\u001b[0m non-default argument follows default argument\n"
     ]
    }
   ],
   "source": [
    "def name(fname = None , mname , lname = None): #always postional argument is followed by keyword argument\n",
    "    print(\"fname is \", fname)   #non-defaut argument followed by default argument \n",
    "    print(\"mname is \", mname)    #inverse of this will be error\n",
    "    print(\"lname is \", lname)\n",
    "    "
   ]
  },
  {
   "cell_type": "code",
   "execution_count": 17,
   "id": "cd0747c6",
   "metadata": {},
   "outputs": [
    {
     "ename": "SyntaxError",
     "evalue": "positional argument follows keyword argument (2728794494.py, line 1)",
     "output_type": "error",
     "traceback": [
      "\u001b[1;36m  Cell \u001b[1;32mIn[17], line 1\u001b[1;36m\u001b[0m\n\u001b[1;33m    name(fname=\"abbi\" , mname=\"ramy\" ,\"nellaikumar\")\u001b[0m\n\u001b[1;37m                                                   ^\u001b[0m\n\u001b[1;31mSyntaxError\u001b[0m\u001b[1;31m:\u001b[0m positional argument follows keyword argument\n"
     ]
    }
   ],
   "source": [
    "name(fname=\"abbi\" , mname=\"ramy\" ,\"nellaikumar\")  ##always postional argument is followed by keyword argument-->"
   ]
  },
  {
   "cell_type": "code",
   "execution_count": 19,
   "id": "455c77c5",
   "metadata": {},
   "outputs": [
    {
     "name": "stdout",
     "output_type": "stream",
     "text": [
      "hi\n",
      "Hello\n"
     ]
    }
   ],
   "source": [
    "a = \"hi\"   #global variable\n",
    "def test():\n",
    "    a = \"Hello\"  #local variable\n",
    "    return(a)\n",
    "print(a)    #will always print global variable first\n",
    "a = test()\n",
    "print(a)  #prints hello as we assign a variable only in 6th line"
   ]
  },
  {
   "cell_type": "code",
   "execution_count": 20,
   "id": "a41a60bd",
   "metadata": {},
   "outputs": [
    {
     "name": "stdout",
     "output_type": "stream",
     "text": [
      "hi\n",
      "Hello\n",
      "None\n"
     ]
    }
   ],
   "source": [
    "a = \"hi\"   \n",
    "def test():\n",
    "    a = \"Hello\"  \n",
    "    print(a)  #we ve not return(store in memoryh & assign a variable) so python does nt remember hello\n",
    "print(a)   \n",
    "a = test()\n",
    "print(a)"
   ]
  },
  {
   "cell_type": "code",
   "execution_count": 21,
   "id": "164bf193",
   "metadata": {},
   "outputs": [
    {
     "name": "stdout",
     "output_type": "stream",
     "text": [
      "hi\n",
      "hi\n"
     ]
    }
   ],
   "source": [
    "a = \"hi\"  \n",
    "def test():\n",
    "    a = \"Hello\"  \n",
    "    return(a)\n",
    "print(a)   \n",
    "test() #we ve not assigned variable \"a\" to hello, python now rmbrs only \"hi\"\n",
    "print(a)"
   ]
  },
  {
   "cell_type": "code",
   "execution_count": 23,
   "id": "77aeb82c",
   "metadata": {},
   "outputs": [],
   "source": [
    "def test(*args):  #when we dont know the num of arguments *args(wont throw error)--> for positinal args\n",
    "    print(args)\n",
    "    print(type(args))\n",
    "    print(args[0])"
   ]
  },
  {
   "cell_type": "code",
   "execution_count": 24,
   "id": "54f3f082",
   "metadata": {},
   "outputs": [
    {
     "name": "stdout",
     "output_type": "stream",
     "text": [
      "('hi', 'hello', 'welcome', 1, 2, 3)\n",
      "<class 'tuple'>\n",
      "hi\n"
     ]
    }
   ],
   "source": [
    "test(\"hi\" , \"hello\" , \"welcome\" , 1,2,3 )"
   ]
  },
  {
   "cell_type": "code",
   "execution_count": 37,
   "id": "6c877d0b",
   "metadata": {},
   "outputs": [],
   "source": [
    "def test(**kwargs):  # for keyword args\n",
    "    print(kwargs)\n",
    "    print(type(kwargs))\n"
   ]
  },
  {
   "cell_type": "code",
   "execution_count": 38,
   "id": "dd2a96bb",
   "metadata": {},
   "outputs": [
    {
     "name": "stdout",
     "output_type": "stream",
     "text": [
      "{'name': 'abbiramy', 'age': 26, 'loaction': 'chennai'}\n",
      "<class 'dict'>\n"
     ]
    }
   ],
   "source": [
    "test( name=\"abbiramy\" ,  age=26 , location = \"chennai\")"
   ]
  },
  {
   "cell_type": "code",
   "execution_count": 39,
   "id": "76a8bab7",
   "metadata": {},
   "outputs": [
    {
     "name": "stdout",
     "output_type": "stream",
     "text": [
      "13\n"
     ]
    }
   ],
   "source": [
    "test = lambda a,b: a+b  #inline function to syntax func in a single line\n",
    "print(test(5,8))"
   ]
  },
  {
   "cell_type": "code",
   "execution_count": null,
   "id": "172ff77a",
   "metadata": {},
   "outputs": [],
   "source": []
  }
 ],
 "metadata": {
  "kernelspec": {
   "display_name": "Python 3 (ipykernel)",
   "language": "python",
   "name": "python3"
  },
  "language_info": {
   "codemirror_mode": {
    "name": "ipython",
    "version": 3
   },
   "file_extension": ".py",
   "mimetype": "text/x-python",
   "name": "python",
   "nbconvert_exporter": "python",
   "pygments_lexer": "ipython3",
   "version": "3.10.9"
  }
 },
 "nbformat": 4,
 "nbformat_minor": 5
}
